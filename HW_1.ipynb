{
 "cells": [
  {
   "cell_type": "markdown",
   "metadata": {
    "id": "_kX74ytuOfgy"
   },
   "source": [
    "# Домашнее задание \"Линейная алгебра. Векторы\"."
   ]
  },
  {
   "cell_type": "markdown",
   "metadata": {
    "id": "rzDIWhwiKxdO"
   },
   "source": [
    "Даны вектора x = (1,1), y = (2, 0) и z = (0,2)\n",
    "\n",
    "Надо:\n",
    "- Изобразить вектора на экране\n",
    "- Изобразить точку x + y + z\n",
    "- Найти угол между векторами x и y\n",
    "\n"
   ]
  },
  {
   "cell_type": "code",
   "execution_count": 8,
   "metadata": {
    "scrolled": true
   },
   "outputs": [
    {
     "name": "stdout",
     "output_type": "stream",
     "text": [
      "X:\n",
      "[1 1]\n",
      "Y:\n",
      "[2 0]\n",
      "Z:\n",
      "[0 2]\n",
      "\n",
      "K:\n",
      "[3 3]\n"
     ]
    },
    {
     "data": {
      "image/png": "[encoded data removed]",
      "text/plain": [
       "<Figure size 432x288 with 1 Axes>"
      ]
     },
     "metadata": {
      "needs_background": "light"
     },
     "output_type": "display_data"
    },
    {
     "name": "stdout",
     "output_type": "stream",
     "text": [
      "Angle between vectors X and Y is 45.0 degrees.\n"
     ]
    }
   ],
   "source": [
    "import numpy as np\n",
    "import matplotlib.pyplot as plt\n",
    "\n",
    "x = np.array([1, 1])\n",
    "y = np.array([2, 0])\n",
    "z = np.array([0, 2])\n",
    "print('X:')\n",
    "print(x)\n",
    "print('Y:')\n",
    "print(y)\n",
    "print('Z:')\n",
    "print(z)\n",
    "\n",
    "k = x + y + z\n",
    "print('')\n",
    "print('K:')\n",
    "print(k)\n",
    "\n",
    "plt.figure()\n",
    "plt.title('Vectors visualization as dots.')\n",
    "plt.plot(x[0], x[1], 'o', label='x')\n",
    "plt.plot(y[0], y[1], 'o', label='y')\n",
    "plt.plot(z[0], z[1], 'o', label='z')\n",
    "plt.plot(k[0], k[1], 'o', label='k')\n",
    "plt.grid()\n",
    "plt.legend()\n",
    "plt.show()\n",
    "\n",
    "cos_xy = np.dot(x, y) / (np.linalg.norm(x) * np.linalg.norm(y))\n",
    "angle_xy_rad = np.arccos(cos_xy)\n",
    "angle_xy_deg = np.degrees(angle_xy_rad)\n",
    "\n",
    "print(\"Angle between vectors X and Y is {0} degrees.\".format(round(angle_xy_deg, 2)))\n"
   ]
  },
  {
   "cell_type": "code",
   "execution_count": null,
   "metadata": {},
   "outputs": [],
   "source": []
  }
 ],
 "metadata": {
  "colab": {
   "name": "HW_ 1",
   "provenance": []
  },
  "kernelspec": {
   "display_name": "Python 3",
   "language": "python",
   "name": "python3"
  },
  "language_info": {
   "codemirror_mode": {
    "name": "ipython",
    "version": 3
   },
   "file_extension": ".py",
   "mimetype": "text/x-python",
   "name": "python",
   "nbconvert_exporter": "python",
   "pygments_lexer": "ipython3",
   "version": "3.7.6"
  }
 },
 "nbformat": 4,
 "nbformat_minor": 1
}
