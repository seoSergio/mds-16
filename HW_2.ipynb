{
 "cells": [
  {
   "cell_type": "markdown",
   "metadata": {
    "id": "SVe9_TI3OEzz"
   },
   "source": [
    "# Домашнее задание \"Линейная алгебра. Матрицы\"."
   ]
  },
  {
   "cell_type": "markdown",
   "metadata": {
    "id": "5y1_BdobOJhL"
   },
   "source": [
    "### Уровень 0:"
   ]
  },
  {
   "cell_type": "markdown",
   "metadata": {
    "id": "T6OsnFW8Nds0"
   },
   "source": [
    " - Создайте матрицу 3 на 3, заполненную числами от 1 до 9\n",
    " - Прибавьте к ней матрицу с единицами на диагонале\n",
    " - Умножьте полученную матрицу на вектор (1, 2, 3)\n",
    " - Посчитайте обратную матрицу к полученной в результате прибавления матрице"
   ]
  },
  {
   "cell_type": "markdown",
   "metadata": {
    "id": "_BAj6HboOLrk"
   },
   "source": [
    "### Уровень 1:"
   ]
  },
  {
   "cell_type": "markdown",
   "metadata": {
    "id": "RiADgeYcOPQF"
   },
   "source": [
    "Дан объект в 2d пространстве:\n",
    "\n",
    "\n",
    "\n",
    "```\n",
    "import numpy as np\n",
    "import matplotlib.pyplot as plt\n",
    "\n",
    "A = [\n",
    "[-100, -100, 1],\n",
    "[-100, 100, 1],\n",
    "[100, 100, 1],\n",
    "[0, 0, 1],\n",
    "[100, -100, 1],\n",
    "[-100, -100, 1]\n",
    "]\n",
    "\n",
    "A = np.array(A)\n",
    "x = A[:,0]\n",
    "y = A[:,1]\n",
    "\n",
    "plt.plot(x, y)\n",
    "plt.ylim([-200, 200])\n",
    "plt.xlim([-200, 200])\n",
    "```\n",
    "\n",
    "\n",
    "При помощи матричных операций выполните:\n",
    "- Уменьшить объект в два раза\n",
    "- Повернуть на 130 градусов\n",
    "- Отразить объект относительно прямой y=x\n",
    "- Выполнить смещение объекта и масштабирование (применить 2 матрицы трансформаций). Смещение на (200, 300) и масштабирование на (0.5, 1.2)\n",
    "\n"
   ]
  },
  {
   "cell_type": "code",
   "execution_count": 80,
   "metadata": {},
   "outputs": [
    {
     "name": "stdout",
     "output_type": "stream",
     "text": [
      "A1:\n",
      "[[ 2.  2.  3.]\n",
      " [ 4.  6.  6.]\n",
      " [ 7.  8. 10.]]\n"
     ]
    }
   ],
   "source": [
    "#Level 0\n",
    "import numpy as np\n",
    "\n",
    "A = np.array([[1, 2, 3], [4, 5, 6], [7, 8, 9]])\n",
    "A1 = A + np.eye(3)\n",
    "print('A1:')\n",
    "print(A1)"
   ]
  },
  {
   "cell_type": "code",
   "execution_count": 81,
   "metadata": {},
   "outputs": [
    {
     "name": "stdout",
     "output_type": "stream",
     "text": [
      "A1v:\n",
      "[[15.]\n",
      " [34.]\n",
      " [53.]]\n"
     ]
    }
   ],
   "source": [
    "v = np.array([[1], [2], [3]])\n",
    "A1v = A1 @ v\n",
    "print('A1v:')\n",
    "print(A1v)"
   ]
  },
  {
   "cell_type": "code",
   "execution_count": 82,
   "metadata": {},
   "outputs": [
    {
     "name": "stdout",
     "output_type": "stream",
     "text": [
      "A1i:\n",
      "[[-6.00000000e+00 -2.00000000e+00  3.00000000e+00]\n",
      " [-1.00000000e+00  5.00000000e-01  2.22044605e-17]\n",
      " [ 5.00000000e+00  1.00000000e+00 -2.00000000e+00]]\n",
      "Double check if the inverse matrix is correctly calculated. A1 @ A1i:\n",
      "[[ 1.00000000e+00 -2.22044605e-16  4.44089210e-16]\n",
      " [-1.77635684e-15  1.00000000e+00  8.88178420e-16]\n",
      " [-1.77635684e-15  4.44089210e-16  1.00000000e+00]]\n"
     ]
    }
   ],
   "source": [
    "A1i = np.linalg.inv(A1)\n",
    "print('A1i:')\n",
    "print(A1i)\n",
    "print('Double check if the inverse matrix is correctly calculated. A1 @ A1i:')\n",
    "print(A1 @ A1i)"
   ]
  },
  {
   "cell_type": "code",
   "execution_count": 83,
   "metadata": {},
   "outputs": [],
   "source": [
    "#Level 1\n",
    "import numpy as np\n",
    "import matplotlib.pyplot as plt\n",
    "\n",
    "def plot_object(arr: np.array, x_lim = [-200, 200], y_lim = [-200, 200]):\n",
    "    x = arr[:, 0]\n",
    "    y = arr[:, 1]\n",
    "    plt.plot(x, y)\n",
    "    plt.xlim(x_lim)\n",
    "    plt.ylim(y_lim)\n",
    "    plt.show()"
   ]
  },
  {
   "cell_type": "code",
   "execution_count": 84,
   "metadata": {},
   "outputs": [
    {
     "data": {
      "image/png": "[encoded data removed]",
      "text/plain": [
       "<Figure size 432x288 with 1 Axes>"
      ]
     },
     "metadata": {
      "needs_background": "light"
     },
     "output_type": "display_data"
    }
   ],
   "source": [
    "A = [\n",
    "[-100, -100, 1],\n",
    "[-100, 100, 1],\n",
    "[100, 100, 1],\n",
    "[0, 0, 1],\n",
    "[100, -100, 1],\n",
    "[-100, -100, 1]\n",
    "]\n",
    "\n",
    "A = np.array(A)\n",
    "plot_object(A)"
   ]
  },
  {
   "cell_type": "code",
   "execution_count": 85,
   "metadata": {},
   "outputs": [
    {
     "name": "stdout",
     "output_type": "stream",
     "text": [
      "A_half_size:\n",
      "[[-50. -50.   1.]\n",
      " [-50.  50.   1.]\n",
      " [ 50.  50.   1.]\n",
      " [  0.   0.   1.]\n",
      " [ 50. -50.   1.]\n",
      " [-50. -50.   1.]]\n"
     ]
    },
    {
     "data": {
      "image/png": "[encoded data removed]",
      "text/plain": [
       "<Figure size 432x288 with 1 Axes>"
      ]
     },
     "metadata": {
      "needs_background": "light"
     },
     "output_type": "display_data"
    }
   ],
   "source": [
    "T_half_size = np.array([\n",
    "    [0.5, 0, 0],\n",
    "    [0, 0.5, 0],\n",
    "    [0, 0, 1]])\n",
    "A_half_size = A @ T_half_size\n",
    "print('A_half_size:')\n",
    "print(A_half_size)\n",
    "plot_object(A_half_size)"
   ]
  },
  {
   "cell_type": "code",
   "execution_count": 86,
   "metadata": {},
   "outputs": [
    {
     "name": "stdout",
     "output_type": "stream",
     "text": [
      "A_rotated:\n",
      "[[ -12.32568334  140.88320528    1.        ]\n",
      " [ 140.88320528   12.32568334    1.        ]\n",
      " [  12.32568334 -140.88320528    1.        ]\n",
      " [   0.            0.            1.        ]\n",
      " [-140.88320528  -12.32568334    1.        ]\n",
      " [ -12.32568334  140.88320528    1.        ]]\n"
     ]
    },
    {
     "data": {
      "image/png": "[encoded data removed]",
      "text/plain": [
       "<Figure size 432x288 with 1 Axes>"
      ]
     },
     "metadata": {
      "needs_background": "light"
     },
     "output_type": "display_data"
    }
   ],
   "source": [
    "angle_rad = np.deg2rad(130)\n",
    "T_rotation = np.array([\n",
    "    [np.cos(angle_rad), -np.sin(angle_rad), 0],\n",
    "    [np.sin(angle_rad), np.cos(angle_rad), 0],\n",
    "    [0, 0, 1]\n",
    "])\n",
    "A_rotated = A @ T_rotation\n",
    "print('A_rotated:')\n",
    "print(A_rotated)\n",
    "plot_object(A_rotated)"
   ]
  },
  {
   "cell_type": "code",
   "execution_count": 87,
   "metadata": {},
   "outputs": [
    {
     "name": "stdout",
     "output_type": "stream",
     "text": [
      "A_reflected:\n",
      "[[-100 -100    1]\n",
      " [ 100 -100    1]\n",
      " [ 100  100    1]\n",
      " [   0    0    1]\n",
      " [-100  100    1]\n",
      " [-100 -100    1]]\n"
     ]
    },
    {
     "data": {
      "image/png": "[encoded data removed]",
      "text/plain": [
       "<Figure size 432x288 with 1 Axes>"
      ]
     },
     "metadata": {
      "needs_background": "light"
     },
     "output_type": "display_data"
    }
   ],
   "source": [
    "T_Householder = np.array([\n",
    "    [0, 1, 0],\n",
    "    [1, 0, 0],\n",
    "    [0, 0, 1]\n",
    "])\n",
    "A_reflected = A @ T_Householder\n",
    "print('A_reflected:')\n",
    "print(A_reflected)\n",
    "plot_object(A_reflected)"
   ]
  },
  {
   "cell_type": "code",
   "execution_count": 88,
   "metadata": {},
   "outputs": [
    {
     "name": "stdout",
     "output_type": "stream",
     "text": [
      "A_transformed:\n",
      "[[150. 180.   1.]\n",
      " [150. 420.   1.]\n",
      " [250. 420.   1.]\n",
      " [200. 300.   1.]\n",
      " [250. 180.   1.]\n",
      " [150. 180.   1.]]\n"
     ]
    },
    {
     "data": {
      "image/png": "[encoded data removed]",
      "text/plain": [
       "<Figure size 432x288 with 1 Axes>"
      ]
     },
     "metadata": {
      "needs_background": "light"
     },
     "output_type": "display_data"
    }
   ],
   "source": [
    "x_shift = 200\n",
    "y_shift = 300\n",
    "T_shift = np.array([\n",
    "    [x_shift, y_shift, 0],\n",
    "    [x_shift, y_shift, 0],\n",
    "    [x_shift, y_shift, 0],\n",
    "    [x_shift, y_shift, 0],\n",
    "    [x_shift, y_shift, 0],\n",
    "    [x_shift, y_shift, 0]\n",
    "])\n",
    "T_scale = np.array([\n",
    "    [0.5, 0, 0],\n",
    "    [0, 1.2, 0],\n",
    "    [0, 0, 1]\n",
    "])\n",
    "A_transformed = A @ T_scale + T_shift\n",
    "print('A_transformed:')\n",
    "print(A_transformed)\n",
    "plot_object(A_transformed, [-200 + x_shift, 200 + x_shift], [-200 + y_shift, 200 + y_shift])\n"
   ]
  },
  {
   "cell_type": "code",
   "execution_count": null,
   "metadata": {},
   "outputs": [],
   "source": []
  }
 ],
 "metadata": {
  "colab": {
   "collapsed_sections": [],
   "name": "HW_2",
   "provenance": []
  },
  "kernelspec": {
   "display_name": "Python 3",
   "language": "python",
   "name": "python3"
  },
  "language_info": {
   "codemirror_mode": {
    "name": "ipython",
    "version": 3
   },
   "file_extension": ".py",
   "mimetype": "text/x-python",
   "name": "python",
   "nbconvert_exporter": "python",
   "pygments_lexer": "ipython3",
   "version": "3.7.6"
  }
 },
 "nbformat": 4,
 "nbformat_minor": 1
}
