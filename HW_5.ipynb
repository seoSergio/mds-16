{
 "cells": [
  {
   "cell_type": "markdown",
   "metadata": {
    "id": "MDcEqde2UtVJ"
   },
   "source": [
    "# Домашнее задание \"Производная функции нескольких аргументов\"."
   ]
  },
  {
   "cell_type": "code",
   "execution_count": 40,
   "metadata": {
    "id": "hkGWP9e5TgmG"
   },
   "outputs": [],
   "source": [
    "import numpy as np\n",
    "from sympy import *\n",
    "from scipy.optimize import approx_fprime"
   ]
  },
  {
   "cell_type": "markdown",
   "metadata": {
    "id": "Brjig4o4UnHe"
   },
   "source": [
    "### Уровень 0:"
   ]
  },
  {
   "cell_type": "markdown",
   "metadata": {
    "id": "xOv4al86VAw1"
   },
   "source": [
    "Посчитайте частные производные функций:"
   ]
  },
  {
   "cell_type": "markdown",
   "metadata": {
    "id": "fCyKnRYIUw2j"
   },
   "source": [
    "\n",
    "1) $f(x,y)=2x^2y^3 + 1/x + y^2x + 7$, а для этой функции также градиент в точке $(1,2)$\n",
    "\n",
    "2) $f(x,y)=x^2y - sin(xy) + cos(x^2) + 6y$"
   ]
  },
  {
   "cell_type": "code",
   "execution_count": 41,
   "metadata": {},
   "outputs": [],
   "source": [
    "x = symbols('x')\n",
    "y = symbols('y')"
   ]
  },
  {
   "cell_type": "code",
   "execution_count": 42,
   "metadata": {},
   "outputs": [],
   "source": [
    "# first function\n",
    "f = 2 * x**2 * y**3 + 1/x + y**2 * x + 7"
   ]
  },
  {
   "cell_type": "code",
   "execution_count": 43,
   "metadata": {},
   "outputs": [
    {
     "name": "stdout",
     "output_type": "stream",
     "text": [
      "4*x*y**3 + y**2 - 1/x**2\n"
     ]
    }
   ],
   "source": [
    "f1x = diff(f, x)\n",
    "print(format(f1x))"
   ]
  },
  {
   "cell_type": "code",
   "execution_count": 44,
   "metadata": {},
   "outputs": [
    {
     "name": "stdout",
     "output_type": "stream",
     "text": [
      "6*x**2*y**2 + 2*x*y\n"
     ]
    }
   ],
   "source": [
    "f1y = diff(f, y)\n",
    "print(format(f1y))"
   ]
  },
  {
   "cell_type": "code",
   "execution_count": 45,
   "metadata": {},
   "outputs": [],
   "source": [
    "# second function\n",
    "f = x**2 * y - sin(x * y) + cos(x**2) + 6 * y"
   ]
  },
  {
   "cell_type": "code",
   "execution_count": 46,
   "metadata": {},
   "outputs": [
    {
     "name": "stdout",
     "output_type": "stream",
     "text": [
      "2*x*y - 2*x*sin(x**2) - y*cos(x*y)\n"
     ]
    }
   ],
   "source": [
    "f1x = diff(f, x)\n",
    "print(format(f1x))"
   ]
  },
  {
   "cell_type": "code",
   "execution_count": 47,
   "metadata": {},
   "outputs": [
    {
     "name": "stdout",
     "output_type": "stream",
     "text": [
      "x**2 - x*cos(x*y) + 6\n"
     ]
    }
   ],
   "source": [
    "f1y = diff(f, y)\n",
    "print(format(f1y))"
   ]
  },
  {
   "cell_type": "code",
   "execution_count": 48,
   "metadata": {},
   "outputs": [
    {
     "name": "stdout",
     "output_type": "stream",
     "text": [
      "[35.00000024 28.00000024]\n"
     ]
    }
   ],
   "source": [
    "# gradient of the first function\n",
    "def func(t):\n",
    "    return 2 * t[0] ** 2 * t[1] ** 3 + 1 / t[0] + t[1] ** 2 * t[0] + 7\n",
    "\n",
    "\n",
    "eps = np.sqrt(np.finfo(float).eps)\n",
    "grad = approx_fprime([1, 2], func, [eps, eps])\n",
    "print(grad)"
   ]
  },
  {
   "cell_type": "markdown",
   "metadata": {
    "id": "COzir0ZGVLtz"
   },
   "source": [
    "### Уровень 1:"
   ]
  },
  {
   "cell_type": "markdown",
   "metadata": {
    "id": "VIW3H6ChVOZQ"
   },
   "source": [
    "Градиентный спуск своими руками:"
   ]
  },
  {
   "cell_type": "code",
   "execution_count": 49,
   "metadata": {
    "id": "rFpy298AUwXs"
   },
   "outputs": [],
   "source": [
    "def f(t):\n",
    "    return (t[0] ** 2) + (t[1] ** 2)"
   ]
  },
  {
   "cell_type": "code",
   "execution_count": 50,
   "metadata": {
    "id": "-QoutSlMcZ7M"
   },
   "outputs": [],
   "source": [
    "x0 = np.array([100, 200])\n",
    "learning_rate = 0.1"
   ]
  },
  {
   "cell_type": "code",
   "execution_count": 51,
   "metadata": {
    "id": "kBQCpgyEcZ9j"
   },
   "outputs": [
    {
     "name": "stdout",
     "output_type": "stream",
     "text": [
      "Minimum is in:  [1.29197811e-08 3.32901401e-08]\n",
      "Minimum value is:  1.2751541739575636e-15\n"
     ]
    }
   ],
   "source": [
    "eps = np.sqrt(np.finfo(float).eps)\n",
    "x = x0\n",
    "for i in range(100):\n",
    "    # Calculate gradient\n",
    "    grad = approx_fprime(x, f, [eps, eps])\n",
    "\n",
    "    # Update x with gradient\n",
    "    x = np.array([\n",
    "        x[0] - learning_rate * grad[0],\n",
    "        x[1] - learning_rate * grad[1]\n",
    "    ])\n",
    "\n",
    "print(\"Minimum is in: \", x)\n",
    "print(\"Minimum value is: \", f(x))"
   ]
  },
  {
   "cell_type": "markdown",
   "metadata": {
    "id": "eAw4uXx_UnJk"
   },
   "source": [
    "\n",
    "Проверка с помощью встроенной функции numpy:"
   ]
  },
  {
   "cell_type": "code",
   "execution_count": 54,
   "metadata": {
    "id": "_O-rTJ1yciMI"
   },
   "outputs": [
    {
     "name": "stdout",
     "output_type": "stream",
     "text": [
      "Optimization terminated successfully.\n",
      "         Current function value: 0.000000\n",
      "         Iterations: 85\n",
      "         Function evaluations: 164\n",
      " final_simplex: (array([[ 3.31391559e-09, -1.82888492e-09],\n",
      "       [-3.91522747e-09, -3.79451217e-09],\n",
      "       [-4.97134432e-09,  7.91645290e-09]]), array([1.43268566e-17, 2.97273287e-17, 8.73844908e-17]))\n",
      "           fun: 1.4326856592347756e-17\n",
      "       message: 'Optimization terminated successfully.'\n",
      "          nfev: 164\n",
      "           nit: 85\n",
      "        status: 0\n",
      "       success: True\n",
      "             x: array([ 3.31391559e-09, -1.82888492e-09])\n"
     ]
    }
   ],
   "source": [
    "from scipy.optimize import minimize\n",
    "\n",
    "res = minimize(f, x0, method='nelder-mead', options={'xtol': 1e-8, 'disp': True})\n",
    "print(res)"
   ]
  },
  {
   "cell_type": "code",
   "execution_count": null,
   "metadata": {},
   "outputs": [],
   "source": []
  }
 ],
 "metadata": {
  "colab": {
   "name": "HW_5",
   "provenance": []
  },
  "kernelspec": {
   "display_name": "Python 3",
   "language": "python",
   "name": "python3"
  },
  "language_info": {
   "codemirror_mode": {
    "name": "ipython",
    "version": 3
   },
   "file_extension": ".py",
   "mimetype": "text/x-python",
   "name": "python",
   "nbconvert_exporter": "python",
   "pygments_lexer": "ipython3",
   "version": "3.7.6"
  }
 },
 "nbformat": 4,
 "nbformat_minor": 1
}
